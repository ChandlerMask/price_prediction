{
 "cells": [
  {
   "cell_type": "code",
   "execution_count": 13,
   "metadata": {},
   "outputs": [],
   "source": [
    "from iFinDPy import *\n",
    "import pandas as pd\n",
    "import numpy as np\n",
    "import tqdm\n",
    "import datetime\n",
    "import sqlite3\n",
    "\n",
    "from iFinDPy import *\n",
    "\n",
    "from const import *\n"
   ]
  },
  {
   "cell_type": "markdown",
   "metadata": {},
   "source": [
    "# 数据下载"
   ]
  },
  {
   "cell_type": "code",
   "execution_count": 6,
   "metadata": {},
   "outputs": [],
   "source": [
    "userID = \"zxqh172\"\n",
    "password = \"OiLFuJE95\""
   ]
  },
  {
   "cell_type": "code",
   "execution_count": 7,
   "metadata": {},
   "outputs": [
    {
     "data": {
      "text/plain": [
       "0"
      ]
     },
     "execution_count": 7,
     "metadata": {},
     "output_type": "execute_result"
    }
   ],
   "source": [
    "THS_iFinDLogin(userID,password)"
   ]
  },
  {
   "cell_type": "code",
   "execution_count": 40,
   "metadata": {},
   "outputs": [],
   "source": [
    "PRICE_COLUMNS = 'open,high,low,close,avgPrice,changeRatio,volume,amount'\n"
   ]
  },
  {
   "cell_type": "code",
   "execution_count": 74,
   "metadata": {},
   "outputs": [],
   "source": [
    "PATH_DATABASES = \"databases/{}\"\n",
    "\n",
    "PATH_PRICE_BYX = PATH_DATABASES.format(\"price_byx.csv\")\n",
    "PATH_PRICE_YY = PATH_DATABASES.format(\"price_yy.csv\")\n",
    "PATH_PRICE_SL = PATH_DATABASES.format(\"price_sl.csv\")\n",
    "\n",
    "PATH_INDEX_SP = PATH_DATABASES.format(\"index_sp.csv\")\n",
    "PATH_INDEX_BYX = PATH_DATABASES.format(\"index_byx.csv\")\n",
    "PATH_INDEX_SYHG = PATH_DATABASES.format(\"index_syhg.csv\")\n",
    "\n",
    "PATH_AU = PATH_DATABASES.format(\"au_price.csv\")\n",
    "\n",
    "PATH_DICT = {\"EBZL.DCE\": PATH_PRICE_BYX, \"SCZL.SHF\": PATH_PRICE_YY, \"LZL.DCE\": PATH_PRICE_SL,\n",
    "             \"NHCI.SL\": PATH_INDEX_SP, \"NHEBI.SL\": PATH_INDEX_BYX, \"NHPCI.SL\": PATH_INDEX_SYHG,\n",
    "             \"AU9999.SHG\": PATH_AU}"
   ]
  },
  {
   "cell_type": "code",
   "execution_count": 78,
   "metadata": {},
   "outputs": [],
   "source": [
    "class DataDownloader(object):\n",
    "    \"\"\"\n",
    "    used to downloaded the data\n",
    "    \"\"\"\n",
    "    path_dict = PATH_DICT\n",
    "\n",
    "    def  save_data(self, data: pd.DataFrame, path):\n",
    "        data.to_csv(path)\n",
    "        pass\n",
    "\n",
    "    def download_data(self, index, \n",
    "                      columns=PRICE_COLUMNS, \n",
    "                      start_date=START_DATE, end_date=END_DATE):\n",
    "        \n",
    "        data = THS_HQ(index, columns, 'CPS:7', start_date, end_date)\n",
    "        return data.data\n",
    "    \n",
    "    def download_all_data(self):\n",
    "        for index, path in tqdm.tqdm(self.path_dict.items()):\n",
    "            # print(index)\n",
    "            data = self.download_data(index=index)\n",
    "            data.to_csv(path)\n",
    "        pass\n",
    "        \n"
   ]
  },
  {
   "cell_type": "code",
   "execution_count": 76,
   "metadata": {},
   "outputs": [],
   "source": [
    "data_downloader = DataDownloader()\n",
    "data_downloader.download_all_data()"
   ]
  },
  {
   "cell_type": "markdown",
   "metadata": {},
   "source": [
    "# read data"
   ]
  },
  {
   "cell_type": "code",
   "execution_count": 103,
   "metadata": {},
   "outputs": [],
   "source": [
    "class DataReader(object):\n",
    "    \"\"\"\n",
    "    used to read the data\n",
    "    \"\"\"\n",
    "    def __init__(self) -> None:\n",
    "        self.trade_date_list = self.get_trade_date_list()\n",
    "        pass\n",
    "\n",
    "    def get_trade_date_list(self):\n",
    "        data_yx = pd.read_csv(PATH_PRICE_BYX)\n",
    "        return pd.DataFrame(data_yx[\"time\"])\n",
    "    \n",
    "    def _read_data(self, path):\n",
    "        data = pd.read_csv(path)\n",
    "        data_ = pd.merge(data, pd.DataFrame(columns=[\"time\"], data=self.trade_date_list), how=\"right\", on=\"time\")\n",
    "        data_.drop(columns=[\"Unnamed: 0\"], inplace=True)\n",
    "        data_.index = pd.to_datetime(data_[\"time\"])\n",
    "        return data_\n",
    "    \n",
    "\n",
    "    def read_price_byx(self):\n",
    "        return self._read_data(path=PATH_PRICE_BYX)\n",
    "    \n",
    "    def read_price_yy(self):\n",
    "        return self._read_data(path=PATH_PRICE_YY)\n",
    "    \n",
    "    def read_price_sl(self):\n",
    "        return self._read_data(path=PATH_PRICE_SL)\n",
    "    \n",
    "    def read_index_sp(self):\n",
    "        return self._read_data(path=PATH_INDEX_SP)\n",
    "    \n",
    "    def read_au(self):\n",
    "        return self._read_data(path=PATH_AU)\n",
    "    \n",
    "    "
   ]
  },
  {
   "cell_type": "code",
   "execution_count": 105,
   "metadata": {},
   "outputs": [],
   "source": [
    "data_reader = DataReader()\n",
    "traed_date_list = data_reader.get_trade_date_list()"
   ]
  },
  {
   "cell_type": "code",
   "execution_count": 106,
   "metadata": {},
   "outputs": [
    {
     "data": {
      "text/html": [
       "<div>\n",
       "<style scoped>\n",
       "    .dataframe tbody tr th:only-of-type {\n",
       "        vertical-align: middle;\n",
       "    }\n",
       "\n",
       "    .dataframe tbody tr th {\n",
       "        vertical-align: top;\n",
       "    }\n",
       "\n",
       "    .dataframe thead th {\n",
       "        text-align: right;\n",
       "    }\n",
       "</style>\n",
       "<table border=\"1\" class=\"dataframe\">\n",
       "  <thead>\n",
       "    <tr style=\"text-align: right;\">\n",
       "      <th></th>\n",
       "      <th>time</th>\n",
       "      <th>thscode</th>\n",
       "      <th>open</th>\n",
       "      <th>high</th>\n",
       "      <th>low</th>\n",
       "      <th>close</th>\n",
       "      <th>avgPrice</th>\n",
       "      <th>changeRatio</th>\n",
       "      <th>volume</th>\n",
       "      <th>amount</th>\n",
       "    </tr>\n",
       "    <tr>\n",
       "      <th>time</th>\n",
       "      <th></th>\n",
       "      <th></th>\n",
       "      <th></th>\n",
       "      <th></th>\n",
       "      <th></th>\n",
       "      <th></th>\n",
       "      <th></th>\n",
       "      <th></th>\n",
       "      <th></th>\n",
       "      <th></th>\n",
       "    </tr>\n",
       "  </thead>\n",
       "  <tbody>\n",
       "    <tr>\n",
       "      <th>2019-09-26</th>\n",
       "      <td>2019-09-26</td>\n",
       "      <td>AU9999.SHG</td>\n",
       "      <td>354.00</td>\n",
       "      <td>354.00</td>\n",
       "      <td>347.15</td>\n",
       "      <td>347.20</td>\n",
       "      <td>347758.961754</td>\n",
       "      <td>-1.4057</td>\n",
       "      <td>17575.60</td>\n",
       "      <td>6.112072e+09</td>\n",
       "    </tr>\n",
       "    <tr>\n",
       "      <th>2019-09-27</th>\n",
       "      <td>2019-09-27</td>\n",
       "      <td>AU9999.SHG</td>\n",
       "      <td>346.02</td>\n",
       "      <td>349.50</td>\n",
       "      <td>344.44</td>\n",
       "      <td>345.25</td>\n",
       "      <td>340334.962448</td>\n",
       "      <td>-0.5616</td>\n",
       "      <td>14990.02</td>\n",
       "      <td>5.101628e+09</td>\n",
       "    </tr>\n",
       "    <tr>\n",
       "      <th>2019-09-30</th>\n",
       "      <td>2019-09-30</td>\n",
       "      <td>AU9999.SHG</td>\n",
       "      <td>343.33</td>\n",
       "      <td>347.99</td>\n",
       "      <td>342.03</td>\n",
       "      <td>344.49</td>\n",
       "      <td>345420.504487</td>\n",
       "      <td>-0.2201</td>\n",
       "      <td>12293.28</td>\n",
       "      <td>4.246351e+09</td>\n",
       "    </tr>\n",
       "    <tr>\n",
       "      <th>2019-10-08</th>\n",
       "      <td>2019-10-08</td>\n",
       "      <td>AU9999.SHG</td>\n",
       "      <td>344.33</td>\n",
       "      <td>344.46</td>\n",
       "      <td>342.60</td>\n",
       "      <td>344.00</td>\n",
       "      <td>327388.421784</td>\n",
       "      <td>-0.1422</td>\n",
       "      <td>11608.30</td>\n",
       "      <td>3.800423e+09</td>\n",
       "    </tr>\n",
       "    <tr>\n",
       "      <th>2019-10-09</th>\n",
       "      <td>2019-10-09</td>\n",
       "      <td>AU9999.SHG</td>\n",
       "      <td>349.00</td>\n",
       "      <td>349.00</td>\n",
       "      <td>344.10</td>\n",
       "      <td>348.39</td>\n",
       "      <td>349779.213802</td>\n",
       "      <td>1.2762</td>\n",
       "      <td>16046.08</td>\n",
       "      <td>5.612585e+09</td>\n",
       "    </tr>\n",
       "    <tr>\n",
       "      <th>...</th>\n",
       "      <td>...</td>\n",
       "      <td>...</td>\n",
       "      <td>...</td>\n",
       "      <td>...</td>\n",
       "      <td>...</td>\n",
       "      <td>...</td>\n",
       "      <td>...</td>\n",
       "      <td>...</td>\n",
       "      <td>...</td>\n",
       "      <td>...</td>\n",
       "    </tr>\n",
       "    <tr>\n",
       "      <th>2024-04-19</th>\n",
       "      <td>2024-04-19</td>\n",
       "      <td>AU9999.SHG</td>\n",
       "      <td>562.80</td>\n",
       "      <td>573.96</td>\n",
       "      <td>561.00</td>\n",
       "      <td>565.55</td>\n",
       "      <td>567205.309924</td>\n",
       "      <td>0.3870</td>\n",
       "      <td>9604.92</td>\n",
       "      <td>5.447962e+09</td>\n",
       "    </tr>\n",
       "    <tr>\n",
       "      <th>2024-04-22</th>\n",
       "      <td>2024-04-22</td>\n",
       "      <td>AU9999.SHG</td>\n",
       "      <td>563.10</td>\n",
       "      <td>567.60</td>\n",
       "      <td>555.80</td>\n",
       "      <td>556.55</td>\n",
       "      <td>560071.753174</td>\n",
       "      <td>-1.5914</td>\n",
       "      <td>11469.94</td>\n",
       "      <td>6.423989e+09</td>\n",
       "    </tr>\n",
       "    <tr>\n",
       "      <th>2024-04-23</th>\n",
       "      <td>2024-04-23</td>\n",
       "      <td>AU9999.SHG</td>\n",
       "      <td>552.80</td>\n",
       "      <td>553.55</td>\n",
       "      <td>542.01</td>\n",
       "      <td>544.01</td>\n",
       "      <td>545057.103454</td>\n",
       "      <td>-2.2532</td>\n",
       "      <td>11876.42</td>\n",
       "      <td>6.473327e+09</td>\n",
       "    </tr>\n",
       "    <tr>\n",
       "      <th>2024-04-24</th>\n",
       "      <td>2024-04-24</td>\n",
       "      <td>AU9999.SHG</td>\n",
       "      <td>544.00</td>\n",
       "      <td>549.30</td>\n",
       "      <td>544.00</td>\n",
       "      <td>548.33</td>\n",
       "      <td>547738.349558</td>\n",
       "      <td>0.7941</td>\n",
       "      <td>12047.44</td>\n",
       "      <td>6.598845e+09</td>\n",
       "    </tr>\n",
       "    <tr>\n",
       "      <th>2024-04-25</th>\n",
       "      <td>2024-04-25</td>\n",
       "      <td>AU9999.SHG</td>\n",
       "      <td>546.01</td>\n",
       "      <td>550.00</td>\n",
       "      <td>544.60</td>\n",
       "      <td>548.16</td>\n",
       "      <td>547093.475302</td>\n",
       "      <td>-0.0310</td>\n",
       "      <td>9228.32</td>\n",
       "      <td>5.048754e+09</td>\n",
       "    </tr>\n",
       "  </tbody>\n",
       "</table>\n",
       "<p>1109 rows × 10 columns</p>\n",
       "</div>"
      ],
      "text/plain": [
       "                  time     thscode    open    high     low   close  \\\n",
       "time                                                                 \n",
       "2019-09-26  2019-09-26  AU9999.SHG  354.00  354.00  347.15  347.20   \n",
       "2019-09-27  2019-09-27  AU9999.SHG  346.02  349.50  344.44  345.25   \n",
       "2019-09-30  2019-09-30  AU9999.SHG  343.33  347.99  342.03  344.49   \n",
       "2019-10-08  2019-10-08  AU9999.SHG  344.33  344.46  342.60  344.00   \n",
       "2019-10-09  2019-10-09  AU9999.SHG  349.00  349.00  344.10  348.39   \n",
       "...                ...         ...     ...     ...     ...     ...   \n",
       "2024-04-19  2024-04-19  AU9999.SHG  562.80  573.96  561.00  565.55   \n",
       "2024-04-22  2024-04-22  AU9999.SHG  563.10  567.60  555.80  556.55   \n",
       "2024-04-23  2024-04-23  AU9999.SHG  552.80  553.55  542.01  544.01   \n",
       "2024-04-24  2024-04-24  AU9999.SHG  544.00  549.30  544.00  548.33   \n",
       "2024-04-25  2024-04-25  AU9999.SHG  546.01  550.00  544.60  548.16   \n",
       "\n",
       "                 avgPrice  changeRatio    volume        amount  \n",
       "time                                                            \n",
       "2019-09-26  347758.961754      -1.4057  17575.60  6.112072e+09  \n",
       "2019-09-27  340334.962448      -0.5616  14990.02  5.101628e+09  \n",
       "2019-09-30  345420.504487      -0.2201  12293.28  4.246351e+09  \n",
       "2019-10-08  327388.421784      -0.1422  11608.30  3.800423e+09  \n",
       "2019-10-09  349779.213802       1.2762  16046.08  5.612585e+09  \n",
       "...                   ...          ...       ...           ...  \n",
       "2024-04-19  567205.309924       0.3870   9604.92  5.447962e+09  \n",
       "2024-04-22  560071.753174      -1.5914  11469.94  6.423989e+09  \n",
       "2024-04-23  545057.103454      -2.2532  11876.42  6.473327e+09  \n",
       "2024-04-24  547738.349558       0.7941  12047.44  6.598845e+09  \n",
       "2024-04-25  547093.475302      -0.0310   9228.32  5.048754e+09  \n",
       "\n",
       "[1109 rows x 10 columns]"
      ]
     },
     "execution_count": 106,
     "metadata": {},
     "output_type": "execute_result"
    }
   ],
   "source": [
    "data_reader.read_au()"
   ]
  },
  {
   "cell_type": "code",
   "execution_count": 91,
   "metadata": {},
   "outputs": [],
   "source": [
    "df_test = pd.read_csv(PATH_INDEX_SYHG)"
   ]
  },
  {
   "cell_type": "code",
   "execution_count": 92,
   "metadata": {},
   "outputs": [
    {
     "data": {
      "text/plain": [
       "Index(['Unnamed: 0', 'time', 'thscode', 'open', 'high', 'low', 'close',\n",
       "       'avgPrice', 'changeRatio', 'volume', 'amount'],\n",
       "      dtype='object')"
      ]
     },
     "execution_count": 92,
     "metadata": {},
     "output_type": "execute_result"
    }
   ],
   "source": [
    "df_test.columns"
   ]
  },
  {
   "cell_type": "code",
   "execution_count": 87,
   "metadata": {},
   "outputs": [
    {
     "data": {
      "text/plain": [
       "Index(['Unnamed: 0', 'time', 'thscode', 'open', 'high', 'low', 'close',\n",
       "       'avgPrice', 'changeRatio', 'volume', 'amount'],\n",
       "      dtype='object')"
      ]
     },
     "execution_count": 87,
     "metadata": {},
     "output_type": "execute_result"
    }
   ],
   "source": [
    "pd.merge(df_test, pd.DataFrame(columns=[\"time\"], data=traed_date_list), how=\"right\", on=\"time\").columns"
   ]
  },
  {
   "cell_type": "code",
   "execution_count": 70,
   "metadata": {},
   "outputs": [],
   "source": [
    "df_yx = THS_HQ('EBZL.DCL','open,high,low,close,avgPrice,changeRatio,volume,amount','CPS:7','2017-01-01','2024-04-25')"
   ]
  },
  {
   "cell_type": "code",
   "execution_count": 72,
   "metadata": {},
   "outputs": [
    {
     "data": {
      "text/plain": [
       "errorcode=-4210\n",
       "errmsg=error happen with input parameters, please have a check.\n",
       "data=None"
      ]
     },
     "execution_count": 72,
     "metadata": {},
     "output_type": "execute_result"
    }
   ],
   "source": [
    "df_yx"
   ]
  },
  {
   "cell_type": "code",
   "execution_count": 62,
   "metadata": {},
   "outputs": [
    {
     "ename": "ValueError",
     "evalue": "DataFrame constructor not properly called!",
     "output_type": "error",
     "traceback": [
      "\u001b[1;31m---------------------------------------------------------------------------\u001b[0m",
      "\u001b[1;31mValueError\u001b[0m                                Traceback (most recent call last)",
      "\u001b[1;32m~\\AppData\\Local\\Temp\\ipykernel_11440\\2250331757.py\u001b[0m in \u001b[0;36m?\u001b[1;34m()\u001b[0m\n\u001b[1;32m----> 1\u001b[1;33m \u001b[0mpd\u001b[0m\u001b[1;33m.\u001b[0m\u001b[0mDataFrame\u001b[0m\u001b[1;33m(\u001b[0m\u001b[0mdf_yx\u001b[0m\u001b[1;33m)\u001b[0m\u001b[1;33m\u001b[0m\u001b[1;33m\u001b[0m\u001b[0m\n\u001b[0m",
      "\u001b[1;32me:\\Anaconda\\Lib\\site-packages\\pandas\\core\\frame.py\u001b[0m in \u001b[0;36m?\u001b[1;34m(self, data, index, columns, dtype, copy)\u001b[0m\n\u001b[0;32m    813\u001b[0m                 )\n\u001b[0;32m    814\u001b[0m         \u001b[1;31m# For data is scalar\u001b[0m\u001b[1;33m\u001b[0m\u001b[1;33m\u001b[0m\u001b[0m\n\u001b[0;32m    815\u001b[0m         \u001b[1;32melse\u001b[0m\u001b[1;33m:\u001b[0m\u001b[1;33m\u001b[0m\u001b[1;33m\u001b[0m\u001b[0m\n\u001b[0;32m    816\u001b[0m             \u001b[1;32mif\u001b[0m \u001b[0mindex\u001b[0m \u001b[1;32mis\u001b[0m \u001b[1;32mNone\u001b[0m \u001b[1;32mor\u001b[0m \u001b[0mcolumns\u001b[0m \u001b[1;32mis\u001b[0m \u001b[1;32mNone\u001b[0m\u001b[1;33m:\u001b[0m\u001b[1;33m\u001b[0m\u001b[1;33m\u001b[0m\u001b[0m\n\u001b[1;32m--> 817\u001b[1;33m                 \u001b[1;32mraise\u001b[0m \u001b[0mValueError\u001b[0m\u001b[1;33m(\u001b[0m\u001b[1;34m\"DataFrame constructor not properly called!\"\u001b[0m\u001b[1;33m)\u001b[0m\u001b[1;33m\u001b[0m\u001b[1;33m\u001b[0m\u001b[0m\n\u001b[0m\u001b[0;32m    818\u001b[0m \u001b[1;33m\u001b[0m\u001b[0m\n\u001b[0;32m    819\u001b[0m             \u001b[0mindex\u001b[0m \u001b[1;33m=\u001b[0m \u001b[0mensure_index\u001b[0m\u001b[1;33m(\u001b[0m\u001b[0mindex\u001b[0m\u001b[1;33m)\u001b[0m\u001b[1;33m\u001b[0m\u001b[1;33m\u001b[0m\u001b[0m\n\u001b[0;32m    820\u001b[0m             \u001b[0mcolumns\u001b[0m \u001b[1;33m=\u001b[0m \u001b[0mensure_index\u001b[0m\u001b[1;33m(\u001b[0m\u001b[0mcolumns\u001b[0m\u001b[1;33m)\u001b[0m\u001b[1;33m\u001b[0m\u001b[1;33m\u001b[0m\u001b[0m\n",
      "\u001b[1;31mValueError\u001b[0m: DataFrame constructor not properly called!"
     ]
    }
   ],
   "source": [
    "pd.DataFrame(df_yx)"
   ]
  },
  {
   "cell_type": "code",
   "execution_count": 73,
   "metadata": {},
   "outputs": [
    {
     "data": {
      "text/plain": [
       "errorcode=0\n",
       "errmsg=\n",
       "data=            time   thscode  open  high   low  close     avgPrice  changeRatio  \\\n",
       "0     2019-09-26  EBZL.DCE  8100  8216  8051   8125  8145.188684     1.562500   \n",
       "1     2019-09-27  EBZL.DCE  8020  8068  7901   7940  7977.451471    -1.610905   \n",
       "2     2019-09-30  EBZL.DCE  7905  7999  7905   7976  7956.888921    -0.012536   \n",
       "3     2019-10-08  EBZL.DCE  7950  7998  7920   7968  7962.263254     0.150830   \n",
       "4     2019-10-09  EBZL.DCE  7971  8018  7940   7952  7974.696077    -0.125597   \n",
       "...          ...       ...   ...   ...   ...    ...          ...          ...   \n",
       "1104  2024-04-19  EBZL.DCE  9652  9780  9580   9652  9668.180248     0.489328   \n",
       "1105  2024-04-22  EBZL.DCE  9605  9685  9528   9531  9613.377602    -1.417046   \n",
       "1106  2024-04-23  EBZL.DCE  9460  9525  9405   9415  9473.398696    -1.423935   \n",
       "1107  2024-04-24  EBZL.DCE  9386  9535  9386   9498  9457.560278     0.263908   \n",
       "1108  2024-04-25  EBZL.DCE  9498  9548  9455   9499  9494.179310     0.444115   \n",
       "\n",
       "      volume        amount  \n",
       "0      82010  3.339935e+05  \n",
       "1      39914  1.592060e+05  \n",
       "2      13738  5.465587e+04  \n",
       "3       5470  2.177679e+04  \n",
       "4      12898  5.142882e+04  \n",
       "...      ...           ...  \n",
       "1104  353146  1.707140e+06  \n",
       "1105  215494  1.035813e+06  \n",
       "1106  303103  1.435708e+06  \n",
       "1107  295516  1.397430e+06  \n",
       "1108  268926  1.276616e+06  \n",
       "\n",
       "[1109 rows x 10 columns]"
      ]
     },
     "execution_count": 73,
     "metadata": {},
     "output_type": "execute_result"
    }
   ],
   "source": [
    "THS_HQ('EBZL.DCE','open,high,low,close,avgPrice,changeRatio,volume,amount','CPS:7','2017-01-01','2024-04-25')"
   ]
  },
  {
   "cell_type": "code",
   "execution_count": null,
   "metadata": {},
   "outputs": [],
   "source": [
    "THS_HQ('EBZL.DCE','open,high,low,close,avgPrice,changeRatio,volume,amount','CPS:7','2017-01-01','2024-04-25')"
   ]
  }
 ],
 "metadata": {
  "kernelspec": {
   "display_name": "base",
   "language": "python",
   "name": "python3"
  },
  "language_info": {
   "codemirror_mode": {
    "name": "ipython",
    "version": 3
   },
   "file_extension": ".py",
   "mimetype": "text/x-python",
   "name": "python",
   "nbconvert_exporter": "python",
   "pygments_lexer": "ipython3",
   "version": "3.11.5"
  }
 },
 "nbformat": 4,
 "nbformat_minor": 2
}
